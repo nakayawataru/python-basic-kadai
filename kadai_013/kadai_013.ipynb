{
  "nbformat": 4,
  "nbformat_minor": 0,
  "metadata": {
    "colab": {
      "provenance": []
    },
    "kernelspec": {
      "name": "python3",
      "display_name": "Python 3"
    },
    "language_info": {
      "name": "python"
    }
  },
  "cells": [
    {
      "cell_type": "code",
      "execution_count": 4,
      "metadata": {
        "colab": {
          "base_uri": "https://localhost:8080/"
        },
        "id": "tnS62_rD9gby",
        "outputId": "bd546924-b8dc-49ca-a906-a77b0c3895c1"
      },
      "outputs": [
        {
          "output_type": "stream",
          "name": "stdout",
          "text": [
            "1100.0\n"
          ]
        }
      ],
      "source": [
        "def tax(price,fee):\n",
        "  total = price + price*fee/100\n",
        "  print(total)\n",
        "\n",
        "tax(1000,10)"
      ]
    }
  ]
}