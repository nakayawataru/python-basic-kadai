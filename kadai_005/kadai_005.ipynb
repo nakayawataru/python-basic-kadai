{
  "nbformat": 4,
  "nbformat_minor": 0,
  "metadata": {
    "colab": {
      "provenance": []
    },
    "kernelspec": {
      "name": "python3",
      "display_name": "Python 3"
    },
    "language_info": {
      "name": "python"
    }
  },
  "cells": [
    {
      "cell_type": "code",
      "execution_count": 2,
      "metadata": {
        "colab": {
          "base_uri": "https://localhost:8080/"
        },
        "id": "WEMRBxhCwCUo",
        "outputId": "471da58d-5730-4a58-f7c9-708586a9cf07"
      },
      "outputs": [
        {
          "output_type": "stream",
          "name": "stdout",
          "text": [
            "75.0c㎡\n"
          ]
        }
      ],
      "source": [
        "daikei = (10+20)*5/2\n",
        "\n",
        "print(f\"{daikei}c㎡\")"
      ]
    }
  ]
}