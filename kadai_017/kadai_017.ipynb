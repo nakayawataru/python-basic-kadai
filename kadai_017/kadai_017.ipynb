{
  "nbformat": 4,
  "nbformat_minor": 0,
  "metadata": {
    "colab": {
      "provenance": []
    },
    "kernelspec": {
      "name": "python3",
      "display_name": "Python 3"
    },
    "language_info": {
      "name": "python"
    }
  },
  "cells": [
    {
      "cell_type": "markdown",
      "source": [],
      "metadata": {
        "id": "iIGAg_wikKlO"
      }
    },
    {
      "cell_type": "code",
      "execution_count": 2,
      "metadata": {
        "colab": {
          "base_uri": "https://localhost:8080/"
        },
        "id": "Mwrs9G1EtgEL",
        "outputId": "e8eee676-6207-4aab-f653-dec42c1600cf"
      },
      "outputs": [
        {
          "output_type": "stream",
          "name": "stdout",
          "text": [
            "太郎は大人ではありません\n",
            "花子は大人です\n",
            "次郎は大人ではありません\n",
            "富士子は大人です\n",
            "三浪は大人です\n"
          ]
        }
      ],
      "source": [
        "class Human:\n",
        "  def __init__(self,name,age):\n",
        "    self.name = name\n",
        "    self.age = age\n",
        "\n",
        "  def check_adult(self):\n",
        "    if self.age > 20:\n",
        "      print(f\"{self.name}は大人です\")\n",
        "    else:\n",
        "      print(f\"{self.name}は大人ではありません\")\n",
        "\n",
        "user1 = Human(\"太郎\",18)\n",
        "user2 = Human(\"花子\",22)\n",
        "user3 = Human(\"次郎\",14)\n",
        "user4 = Human(\"富士子\",45)\n",
        "user5 = Human(\"三浪\",33)\n",
        "\n",
        "users = [user1,user2,user3,user4,user5]\n",
        "\n",
        "for user in users:\n",
        "  user.check_adult()\n"
      ]
    }
  ]
}